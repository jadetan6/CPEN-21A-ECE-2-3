{
  "nbformat": 4,
  "nbformat_minor": 0,
  "metadata": {
    "colab": {
      "name": "Demo1.ipynb",
      "provenance": [],
      "toc_visible": true,
      "mount_file_id": "10FTSmmiVekbfOW4Qyh7fQmJMe6EiDkmq",
      "authorship_tag": "ABX9TyMWMeCnyinkgkRLFezFLt2j",
      "include_colab_link": true
    },
    "kernelspec": {
      "name": "python3",
      "display_name": "Python 3"
    },
    "language_info": {
      "name": "python"
    }
  },
  "cells": [
    {
      "cell_type": "markdown",
      "metadata": {
        "id": "view-in-github",
        "colab_type": "text"
      },
      "source": [
        "<a href=\"https://colab.research.google.com/github/jadetan6/CPEN-20A-ECE-2-3/blob/main/Demo1.ipynb\" target=\"_parent\"><img src=\"https://colab.research.google.com/assets/colab-badge.svg\" alt=\"Open In Colab\"/></a>"
      ]
    },
    {
      "cell_type": "markdown",
      "metadata": {
        "id": "DzXzNyFQuCkl"
      },
      "source": [
        "##Python Indention"
      ]
    },
    {
      "cell_type": "code",
      "metadata": {
        "colab": {
          "base_uri": "https://localhost:8080/"
        },
        "id": "JK7RtBdcjkCp",
        "outputId": "bf9825ad-8279-4c8d-911e-615bc86b774a"
      },
      "source": [
        "if 5>2:\n",
        "  print (\"Five is greater than two\")"
      ],
      "execution_count": 3,
      "outputs": [
        {
          "output_type": "stream",
          "name": "stdout",
          "text": [
            "Five is greater than two\n"
          ]
        }
      ]
    },
    {
      "cell_type": "markdown",
      "metadata": {
        "id": "SEdybkLvlw4r"
      },
      "source": [
        "##Python Variable"
      ]
    },
    {
      "cell_type": "code",
      "metadata": {
        "colab": {
          "base_uri": "https://localhost:8080/"
        },
        "id": "w8_fN_yml7AR",
        "outputId": "d9cbe57a-9b0c-47a1-846d-8a5f97616d2c"
      },
      "source": [
        "a, b, c = 0,1,2\n",
        "d= \"Sally\" #This is a type of string\n",
        "s= 'Mark' #This is a type of string\n",
        "A= \"Raymond\" #This is a type of string\n",
        "print (a)\n",
        "print (b)\n",
        "print (c)\n",
        "print (d)\n",
        "print (s)\n",
        "print (A)"
      ],
      "execution_count": 8,
      "outputs": [
        {
          "output_type": "stream",
          "name": "stdout",
          "text": [
            "0\n",
            "1\n",
            "2\n",
            "Sally\n",
            "Mark\n",
            "Raymond\n"
          ]
        }
      ]
    },
    {
      "cell_type": "code",
      "metadata": {
        "colab": {
          "base_uri": "https://localhost:8080/"
        },
        "id": "RTmvqLCLxh9-",
        "outputId": "761587cf-c20e-4809-ae1d-e6ea25bff722"
      },
      "source": [
        "x = y = z = \"four\"\n",
        "print (x)\n",
        "print (y)\n",
        "print (z)"
      ],
      "execution_count": 22,
      "outputs": [
        {
          "output_type": "stream",
          "name": "stdout",
          "text": [
            "four\n",
            "four\n",
            "four\n"
          ]
        }
      ]
    },
    {
      "cell_type": "code",
      "metadata": {
        "colab": {
          "base_uri": "https://localhost:8080/"
        },
        "id": "Sa2ScXzoxyRi",
        "outputId": "a6182a0d-5e50-4894-92ac-ff17c8da7e78"
      },
      "source": [
        "x = \"enjoying\"\n",
        "print(\"Python programming is\" \" \" + x)"
      ],
      "execution_count": 25,
      "outputs": [
        {
          "output_type": "stream",
          "name": "stdout",
          "text": [
            "Python programming is enjoying\n"
          ]
        }
      ]
    },
    {
      "cell_type": "code",
      "metadata": {
        "colab": {
          "base_uri": "https://localhost:8080/"
        },
        "id": "TIGzopKwyKzF",
        "outputId": "2a50df4c-05c9-4e91-d027-7ae2ad05cd8d"
      },
      "source": [
        "x= \"Python is \"\n",
        "y= \"enjoying\"\n",
        "z= x+y\n",
        "print (z)"
      ],
      "execution_count": 31,
      "outputs": [
        {
          "output_type": "stream",
          "name": "stdout",
          "text": [
            "Python is enjoying\n"
          ]
        }
      ]
    },
    {
      "cell_type": "markdown",
      "metadata": {
        "id": "jlVnU3WcjS2U"
      },
      "source": [
        "##Casting"
      ]
    },
    {
      "cell_type": "code",
      "metadata": {
        "colab": {
          "base_uri": "https://localhost:8080/"
        },
        "id": "wu_LSEBzwWJE",
        "outputId": "35a92c12-9680-47a8-bfea-37e9cca46092"
      },
      "source": [
        "b=\"Sally\" #This is a type of string \n",
        "b=int(4)\n",
        "print (b)"
      ],
      "execution_count": 20,
      "outputs": [
        {
          "output_type": "stream",
          "name": "stdout",
          "text": [
            "4\n"
          ]
        }
      ]
    },
    {
      "cell_type": "code",
      "metadata": {
        "colab": {
          "base_uri": "https://localhost:8080/"
        },
        "id": "gpsf-xoMxR59",
        "outputId": "269c73ef-913f-432e-c757-bc489040927b"
      },
      "source": [
        "b= float (4)\n",
        "print (b)"
      ],
      "execution_count": 21,
      "outputs": [
        {
          "output_type": "stream",
          "name": "stdout",
          "text": [
            "4.0\n"
          ]
        }
      ]
    },
    {
      "cell_type": "markdown",
      "metadata": {
        "id": "iLXGP6Q0nzKc"
      },
      "source": [
        "##Operations in Python\n"
      ]
    },
    {
      "cell_type": "code",
      "metadata": {
        "colab": {
          "base_uri": "https://localhost:8080/"
        },
        "id": "QF4NE-2lpULJ",
        "outputId": "576ace94-9619-4fac-ff5a-ef6513b68e96"
      },
      "source": [
        "k = 10\n",
        "l = 5\n",
        "print (k+l)"
      ],
      "execution_count": 11,
      "outputs": [
        {
          "output_type": "stream",
          "name": "stdout",
          "text": [
            "15\n"
          ]
        }
      ]
    },
    {
      "cell_type": "code",
      "metadata": {
        "colab": {
          "base_uri": "https://localhost:8080/"
        },
        "id": "V412XpPxn2jU",
        "outputId": "f4ff3ca6-649e-4c6e-801b-b7275f3f9267"
      },
      "source": [
        "k+=l #Is the same as k = k+l\n",
        "print (k)"
      ],
      "execution_count": 12,
      "outputs": [
        {
          "output_type": "stream",
          "name": "stdout",
          "text": [
            "15\n"
          ]
        }
      ]
    },
    {
      "cell_type": "code",
      "metadata": {
        "colab": {
          "base_uri": "https://localhost:8080/"
        },
        "id": "iKO0MDe4qJ3S",
        "outputId": "f1886766-4f3f-46da-93b3-2baa2a1bcc6a"
      },
      "source": [
        "k>l and l==l"
      ],
      "execution_count": 13,
      "outputs": [
        {
          "output_type": "execute_result",
          "data": {
            "text/plain": [
              "True"
            ]
          },
          "metadata": {},
          "execution_count": 13
        }
      ]
    },
    {
      "cell_type": "code",
      "metadata": {
        "colab": {
          "base_uri": "https://localhost:8080/"
        },
        "id": "0oz-naP1qRu6",
        "outputId": "a16cff0d-b28c-4787-f698-2e2341498d43"
      },
      "source": [
        "k<l and k==k"
      ],
      "execution_count": 15,
      "outputs": [
        {
          "output_type": "execute_result",
          "data": {
            "text/plain": [
              "False"
            ]
          },
          "metadata": {},
          "execution_count": 15
        }
      ]
    },
    {
      "cell_type": "code",
      "metadata": {
        "colab": {
          "base_uri": "https://localhost:8080/"
        },
        "id": "dH9_P0Ugqfhn",
        "outputId": "2ddb6b77-0d07-4779-a98e-5a4ba11d5619"
      },
      "source": [
        "not(k<l) or k==k"
      ],
      "execution_count": 16,
      "outputs": [
        {
          "output_type": "execute_result",
          "data": {
            "text/plain": [
              "True"
            ]
          },
          "metadata": {},
          "execution_count": 16
        }
      ]
    },
    {
      "cell_type": "code",
      "metadata": {
        "colab": {
          "base_uri": "https://localhost:8080/"
        },
        "id": "HYzcg-tcqpcf",
        "outputId": "e070e0dc-06cd-4e9f-ec12-043886176732"
      },
      "source": [
        "k is l"
      ],
      "execution_count": 18,
      "outputs": [
        {
          "output_type": "execute_result",
          "data": {
            "text/plain": [
              "False"
            ]
          },
          "metadata": {},
          "execution_count": 18
        }
      ]
    },
    {
      "cell_type": "code",
      "metadata": {
        "colab": {
          "base_uri": "https://localhost:8080/"
        },
        "id": "ZTPQiF7wq8eZ",
        "outputId": "456e4586-693c-4c96-abc2-53dff2968a77"
      },
      "source": [
        "k%=5\n",
        "k"
      ],
      "execution_count": 19,
      "outputs": [
        {
          "output_type": "execute_result",
          "data": {
            "text/plain": [
              "0"
            ]
          },
          "metadata": {},
          "execution_count": 19
        }
      ]
    },
    {
      "cell_type": "code",
      "metadata": {
        "colab": {
          "base_uri": "https://localhost:8080/"
        },
        "id": "ThTayvrYzLWv",
        "outputId": "4aaef538-c4ff-46d4-bc27-05a66c6b4c76"
      },
      "source": [
        "a,b,c = 0,-1,5\n",
        "a is c"
      ],
      "execution_count": 33,
      "outputs": [
        {
          "output_type": "execute_result",
          "data": {
            "text/plain": [
              "False"
            ]
          },
          "metadata": {},
          "execution_count": 33
        }
      ]
    }
  ]
}