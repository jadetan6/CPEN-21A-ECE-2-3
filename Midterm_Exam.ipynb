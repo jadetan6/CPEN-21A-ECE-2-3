{
  "nbformat": 4,
  "nbformat_minor": 0,
  "metadata": {
    "colab": {
      "name": "Midterm Exam.ipynb",
      "provenance": [],
      "authorship_tag": "ABX9TyMO7Bk6oNTJ8WpKeg1Brv9E",
      "include_colab_link": true
    },
    "kernelspec": {
      "name": "python3",
      "display_name": "Python 3"
    },
    "language_info": {
      "name": "python"
    }
  },
  "cells": [
    {
      "cell_type": "markdown",
      "metadata": {
        "id": "view-in-github",
        "colab_type": "text"
      },
      "source": [
        "<a href=\"https://colab.research.google.com/github/jadetan6/CPEN-21A-ECE-2-3/blob/main/Midterm_Exam.ipynb\" target=\"_parent\"><img src=\"https://colab.research.google.com/assets/colab-badge.svg\" alt=\"Open In Colab\"/></a>"
      ]
    },
    {
      "cell_type": "markdown",
      "metadata": {
        "id": "pccMgU2dsIrr"
      },
      "source": [
        "##Midterm Exam"
      ]
    },
    {
      "cell_type": "markdown",
      "metadata": {
        "id": "u5jZDucAsWV8"
      },
      "source": [
        "##Problem Statement 1"
      ]
    },
    {
      "cell_type": "code",
      "metadata": {
        "colab": {
          "base_uri": "https://localhost:8080/"
        },
        "id": "yub-QNRasxqk",
        "outputId": "30f23de5-0a51-4472-edd5-01c4edb0bda3"
      },
      "source": [
        "a = \"Fullname: Jade Ann Raquel C. Tan\"\n",
        "b = \"Student Number: 201910439\"\n",
        "c = \"Age: 21 years old\"\n",
        "d = \"Birthday: July 6, 2000\"\n",
        "e = \"Address: 381 Salcedo 1, Noveleta, Cavite\"\n",
        "f = \"Course: BS Industrial Engineering\"\n",
        "g = \"Last sem GWA: 1.59\"\n",
        "\n",
        "print(a)\n",
        "print(b)\n",
        "print(c)\n",
        "print(d)\n",
        "print(e)\n",
        "print(f)\n",
        "print(g)"
      ],
      "execution_count": 2,
      "outputs": [
        {
          "output_type": "stream",
          "name": "stdout",
          "text": [
            "Fullname: Jade Ann Raquel C. Tan\n",
            "Student Number: 201910439\n",
            "Age: 21 years old\n",
            "Birthday: July 6, 2000\n",
            "Address: 381 Salcedo 1, Noveleta, Cavite\n",
            "Course: BS Industrial Engineering\n",
            "Last sem GWA: 1.59\n"
          ]
        }
      ]
    },
    {
      "cell_type": "markdown",
      "metadata": {
        "id": "-X4nsV2XuME7"
      },
      "source": [
        "##Problem Statement 2"
      ]
    },
    {
      "cell_type": "code",
      "metadata": {
        "colab": {
          "base_uri": "https://localhost:8080/"
        },
        "id": "WoRWvBvyuQVL",
        "outputId": "70b6f986-ab1f-4de0-c4c0-6910aa27a3f7"
      },
      "source": [
        "n = 4\n",
        "answ = \"Y\"\n",
        "\n",
        "print(2<n) and (n<6)\n",
        "if (2<n) or (n==6):\n",
        "  print(\"True\")\n",
        "else: \n",
        "  print (\"False\")\n",
        "if not(2<n) or (n==6):\n",
        "  print(\"True\")\n",
        "else: \n",
        "  print (\"False\")\n",
        "if not(n<6):\n",
        "  print(\"True\")\n",
        "else: \n",
        "  print (\"False\")\n",
        "if (answ==\"Y\") or (answ==\"y\"):\n",
        "  print(\"True\")\n",
        "else: \n",
        "  print (\"False\")\n",
        "if (answ==\"Y\") and (answ==\"y\"):\n",
        "  print(\"True\")\n",
        "else: \n",
        "  print (\"False\")\n",
        "if not(answ==\"y\"):\n",
        "  print(\"True\")\n",
        "else: \n",
        "  print (\"False\")\n",
        "if ((2<n) and (n==5+1)) or (answ==\"No\"):\n",
        "  print(\"True\")\n",
        "else: \n",
        "  print (\"False\")\n",
        "if ((n==2) and (n==7)) or (answ==\"Y\"):\n",
        "  print(\"True\")\n",
        "else: \n",
        "  print (\"False\")\n",
        "if (n==2) and ((n==7) or (answ==\"Y\")):\n",
        "  print(\"True\")\n",
        "else: \n",
        "  print (\"False\")\n"
      ],
      "execution_count": 18,
      "outputs": [
        {
          "output_type": "stream",
          "name": "stdout",
          "text": [
            "True\n",
            "True\n",
            "False\n",
            "False\n",
            "True\n",
            "False\n",
            "True\n",
            "False\n",
            "True\n",
            "False\n"
          ]
        }
      ]
    },
    {
      "cell_type": "markdown",
      "metadata": {
        "id": "4RZYlSN6zGSC"
      },
      "source": [
        "##Problem Statement 3"
      ]
    },
    {
      "cell_type": "code",
      "metadata": {
        "colab": {
          "base_uri": "https://localhost:8080/"
        },
        "id": "NEp9R4K9zOU4",
        "outputId": "db1a1e89-ae42-4f84-faff-5ff5aac9a44c"
      },
      "source": [
        "x = 2\n",
        "y = -3\n",
        "w = 7\n",
        "z = -10\n",
        "\n",
        "print(x/y)\n",
        "print(w/y/x)\n",
        "print(z/y%x)\n",
        "print(x%-y*w)\n",
        "print(x%y)\n",
        "print(z%w-y/x*5+5)\n",
        "print(9-x%(2+y))\n",
        "print(z//w) \n",
        "print((2+y)**2)\n",
        "print(w/x*2)"
      ],
      "execution_count": 30,
      "outputs": [
        {
          "output_type": "stream",
          "name": "stdout",
          "text": [
            "-0.6666666666666666\n",
            "-1.1666666666666667\n",
            "1.3333333333333335\n",
            "14\n",
            "-1\n",
            "16.5\n",
            "9\n",
            "-2\n",
            "1\n",
            "7.0\n"
          ]
        }
      ]
    }
  ]
}