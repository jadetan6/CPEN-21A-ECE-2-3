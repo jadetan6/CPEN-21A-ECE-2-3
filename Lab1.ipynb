{
  "nbformat": 4,
  "nbformat_minor": 0,
  "metadata": {
    "colab": {
      "name": "Lab1.ipynb",
      "provenance": [],
      "authorship_tag": "ABX9TyOY8rjx/a4YAfGmVoOw6FZj",
      "include_colab_link": true
    },
    "kernelspec": {
      "name": "python3",
      "display_name": "Python 3"
    },
    "language_info": {
      "name": "python"
    }
  },
  "cells": [
    {
      "cell_type": "markdown",
      "metadata": {
        "id": "view-in-github",
        "colab_type": "text"
      },
      "source": [
        "<a href=\"https://colab.research.google.com/github/jadetan6/CPEN-21A-ECE-2-3/blob/main/Lab1.ipynb\" target=\"_parent\"><img src=\"https://colab.research.google.com/assets/colab-badge.svg\" alt=\"Open In Colab\"/></a>"
      ]
    },
    {
      "cell_type": "markdown",
      "metadata": {
        "id": "lDAs_R0fiAmu"
      },
      "source": [
        "##Laboratory 1"
      ]
    },
    {
      "cell_type": "code",
      "metadata": {
        "colab": {
          "base_uri": "https://localhost:8080/"
        },
        "id": "SBAPMU4Sgk4v",
        "outputId": "5bd48353-54a5-4744-af41-33104703d8aa"
      },
      "source": [
        "#This is a comment \n",
        "print(\"Welcome to Python Programming\")"
      ],
      "execution_count": 6,
      "outputs": [
        {
          "output_type": "stream",
          "name": "stdout",
          "text": [
            "Welcome to Python Programming\n"
          ]
        }
      ]
    },
    {
      "cell_type": "code",
      "metadata": {
        "colab": {
          "base_uri": "https://localhost:8080/"
        },
        "id": "HRKp6lDOhBU3",
        "outputId": "0c2a3537-3249-410d-a3d8-81e595691bdd"
      },
      "source": [
        "x= \"name: Jade Ann Raquel C. Tan\"\n",
        "y= \"addrress: AGV Grand Pasadena Blk. 21 Lot 38 Begonia St. Bacao 2, Gen. Trias, Cavite\"\n",
        "z= \"age: 21 years old\"\n",
        "print(x)\n",
        "print(y)\n",
        "print(z)"
      ],
      "execution_count": 5,
      "outputs": [
        {
          "output_type": "stream",
          "name": "stdout",
          "text": [
            "name: Jade Ann Raquel C. Tan\n",
            "addrress: AGV Grand Pasadena Blk. 21 Lot 38 Begonia St. Bacao 2, Gen. Trias, Cavite\n",
            "age: 21 years old\n"
          ]
        }
      ]
    }
  ]
}