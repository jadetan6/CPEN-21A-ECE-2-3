{
  "nbformat": 4,
  "nbformat_minor": 0,
  "metadata": {
    "colab": {
      "name": "Final Exam.ipynb",
      "provenance": [],
      "authorship_tag": "ABX9TyPy6tIU/kKTamTedCubPzWI",
      "include_colab_link": true
    },
    "kernelspec": {
      "name": "python3",
      "display_name": "Python 3"
    },
    "language_info": {
      "name": "python"
    }
  },
  "cells": [
    {
      "cell_type": "markdown",
      "metadata": {
        "id": "view-in-github",
        "colab_type": "text"
      },
      "source": [
        "<a href=\"https://colab.research.google.com/github/jadetan6/CPEN-21A-ECE-2-3/blob/main/Final_Exam.ipynb\" target=\"_parent\"><img src=\"https://colab.research.google.com/assets/colab-badge.svg\" alt=\"Open In Colab\"/></a>"
      ]
    },
    {
      "cell_type": "markdown",
      "source": [
        "##Final Exam"
      ],
      "metadata": {
        "id": "ye5MCiNOWfWc"
      }
    },
    {
      "cell_type": "markdown",
      "source": [
        "###Problem Statement 1"
      ],
      "metadata": {
        "id": "rys_lqg1W0O4"
      }
    },
    {
      "cell_type": "code",
      "source": [
        "sum = 0\n",
        "numbers = [1,2,3,4,5,5,4,3,2,1]\n",
        "for x in numbers:\n",
        "  sum = x+sum\n",
        "print(sum)"
      ],
      "metadata": {
        "colab": {
          "base_uri": "https://localhost:8080/"
        },
        "id": "LrMBnxYhW85p",
        "outputId": "11b488ca-195e-4dab-f30c-622ebb2b1c48"
      },
      "execution_count": 10,
      "outputs": [
        {
          "output_type": "stream",
          "name": "stdout",
          "text": [
            "30\n"
          ]
        }
      ]
    },
    {
      "cell_type": "markdown",
      "source": [
        "###Problem Statement 2"
      ],
      "metadata": {
        "id": "Sq1UbMZqaZaB"
      }
    },
    {
      "cell_type": "code",
      "source": [
        "i = 1\n",
        "firstnum = 0\n",
        "secondnum = 0\n",
        "while i < 6:\n",
        "  num = int(input(\"Enter a number: \"))\n",
        "  if (i==1):\n",
        "    firstnum = num\n",
        "  if (i==5):\n",
        "    secondnum = num\n",
        "  i=i+1\n",
        "\n",
        "summ = firstnum+secondnum\n",
        "print (\"The sum of first number and last number is:\", +summ)"
      ],
      "metadata": {
        "colab": {
          "base_uri": "https://localhost:8080/"
        },
        "id": "zpphKFr3xVm_",
        "outputId": "eeeec1ab-90d3-4337-c7eb-938ab3a9a45d"
      },
      "execution_count": null,
      "outputs": [
        {
          "output_type": "stream",
          "name": "stdout",
          "text": [
            "Enter a number:6\n",
            "Enter a number:2\n",
            "Enter a number:1\n",
            "Enter a number:4\n",
            "Enter a number:10\n",
            "The sum of first number and last number is: 16\n"
          ]
        }
      ]
    },
    {
      "cell_type": "markdown",
      "source": [
        "###Problem Statement 3"
      ],
      "metadata": {
        "id": "wVdWgeAHawzB"
      }
    },
    {
      "cell_type": "code",
      "source": [
        " g1 = int(input(\"Enter your first grade:\"))\n",
        " g2 = int(input(\"Enter your second grade:\"))\n",
        " g3 = int(input(\"Enter your third grade:\"))\n",
        " g4 = int(input(\"Enter your fourth grade:\"))\n",
        "\n",
        " ave = (g1+g2+g3+g4)/4\n",
        " print(\"Your average is:\",ave)\n",
        "\n",
        " if(ave>=90):\n",
        "   print(\"A\")\n",
        " elif(ave>80):\n",
        "   if(ave<90):\n",
        "     print(\"B\")\n",
        " elif(ave>70):\n",
        "   if(ave<80):\n",
        "     print(\"C\")\n",
        " elif(ave>60):\n",
        "    if(ave<70):\n",
        "      print(\"D\")\n",
        " else:\n",
        "    print(\"F\")\n",
        " \n",
        "  "
      ],
      "metadata": {
        "id": "uVCBjfRS2Fk3"
      },
      "execution_count": null,
      "outputs": []
    }
  ]
}