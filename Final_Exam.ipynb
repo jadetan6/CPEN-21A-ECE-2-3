{
  "nbformat": 4,
  "nbformat_minor": 0,
  "metadata": {
    "colab": {
      "name": "Final Exam.ipynb",
      "provenance": [],
      "authorship_tag": "ABX9TyM0Br5kleVs2m0QiDAUmMzj",
      "include_colab_link": true
    },
    "kernelspec": {
      "name": "python3",
      "display_name": "Python 3"
    },
    "language_info": {
      "name": "python"
    }
  },
  "cells": [
    {
      "cell_type": "markdown",
      "metadata": {
        "id": "view-in-github",
        "colab_type": "text"
      },
      "source": [
        "<a href=\"https://colab.research.google.com/github/jadetan6/CPEN-21A-ECE-2-3/blob/main/Final_Exam.ipynb\" target=\"_parent\"><img src=\"https://colab.research.google.com/assets/colab-badge.svg\" alt=\"Open In Colab\"/></a>"
      ]
    },
    {
      "cell_type": "markdown",
      "source": [
        "##Final Exam"
      ],
      "metadata": {
        "id": "ye5MCiNOWfWc"
      }
    },
    {
      "cell_type": "markdown",
      "source": [
        "###Problem Statement 1"
      ],
      "metadata": {
        "id": "rys_lqg1W0O4"
      }
    },
    {
      "cell_type": "code",
      "source": [
        "sum = 0\n",
        "for num in range(1,11):\n",
        "  sum = sum+num\n",
        "print(sum-5)"
      ],
      "metadata": {
        "colab": {
          "base_uri": "https://localhost:8080/"
        },
        "id": "LrMBnxYhW85p",
        "outputId": "e42ed655-a454-49d7-acf4-e9856a75fd42"
      },
      "execution_count": 24,
      "outputs": [
        {
          "output_type": "stream",
          "name": "stdout",
          "text": [
            "50\n"
          ]
        }
      ]
    },
    {
      "cell_type": "markdown",
      "source": [
        "###Problem Statement 2"
      ],
      "metadata": {
        "id": "Sq1UbMZqaZaB"
      }
    },
    {
      "cell_type": "code",
      "source": [
        "i = 1\n",
        "firstnum = 0\n",
        "secondnum = 0\n",
        "while i < 6:\n",
        "  num = int(input(\"Enter a number: \"))\n",
        "  if (i==1):\n",
        "    firstnum = num\n",
        "  if (i==5):\n",
        "    secondnum = num\n",
        "  i=i+1\n",
        "\n",
        "summ = firstnum+secondnum\n",
        "print (\"The sum of first number and last number is:\", +summ)"
      ],
      "metadata": {
        "colab": {
          "base_uri": "https://localhost:8080/"
        },
        "id": "zpphKFr3xVm_",
        "outputId": "eeeec1ab-90d3-4337-c7eb-938ab3a9a45d"
      },
      "execution_count": 27,
      "outputs": [
        {
          "output_type": "stream",
          "name": "stdout",
          "text": [
            "Enter a number:6\n",
            "Enter a number:2\n",
            "Enter a number:1\n",
            "Enter a number:4\n",
            "Enter a number:10\n",
            "The sum of first number and last number is: 16\n"
          ]
        }
      ]
    },
    {
      "cell_type": "markdown",
      "source": [
        "###Problem Statement 3"
      ],
      "metadata": {
        "id": "wVdWgeAHawzB"
      }
    },
    {
      "cell_type": "code",
      "source": [
        " g1 = int(input(\"Enter your first grade:\"))\n",
        " g2 = int(input(\"Enter your second grade:\"))\n",
        " g3 = int(input(\"Enter your third grade:\"))\n",
        " g4 = int(input(\"Enter your fourth grade:\"))\n",
        "\n",
        " ave = (g1+g2+g3+g4)/4\n",
        " print(\"Your average is:\",ave)\n",
        "\n",
        " if(ave>=90):\n",
        "   print(\"A\")\n",
        " elif(ave>80):\n",
        "   if(ave<90):\n",
        "     print(\"B\")\n",
        " elif(ave>70):\n",
        "   if(ave<80):\n",
        "     print(\"C\")\n",
        " elif(ave>60):\n",
        "    if(ave<70):\n",
        "      print(\"D\")\n",
        " elif(ave<60):\n",
        "    print(\"F\")\n",
        " else:\n",
        "    print(\"Invalid\")\n",
        "\n",
        "   "
      ],
      "metadata": {
        "colab": {
          "base_uri": "https://localhost:8080/"
        },
        "id": "uVCBjfRS2Fk3",
        "outputId": "b038022e-966f-4012-9a61-2bfe908b9006"
      },
      "execution_count": 32,
      "outputs": [
        {
          "output_type": "stream",
          "name": "stdout",
          "text": [
            "Enter your first grade:91\n",
            "Enter your second grade:89\n",
            "Enter your third grade:85\n",
            "Enter your fourth grade:93\n",
            "Your average is: 89.5\n",
            "B\n"
          ]
        }
      ]
    }
  ]
}